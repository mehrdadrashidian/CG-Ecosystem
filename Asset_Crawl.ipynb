{
  "nbformat": 4,
  "nbformat_minor": 0,
  "metadata": {
    "colab": {
      "provenance": [],
      "authorship_tag": "ABX9TyOoF09DSXyNkd7MRASnhWsC",
      "include_colab_link": true
    },
    "kernelspec": {
      "name": "python3",
      "display_name": "Python 3"
    },
    "language_info": {
      "name": "python"
    }
  },
  "cells": [
    {
      "cell_type": "markdown",
      "metadata": {
        "id": "view-in-github",
        "colab_type": "text"
      },
      "source": [
        "<a href=\"https://colab.research.google.com/github/mehrdadrashidian/CG-Ecosystem/blob/master/Asset_Crawl.ipynb\" target=\"_parent\"><img src=\"https://colab.research.google.com/assets/colab-badge.svg\" alt=\"Open In Colab\"/></a>"
      ]
    },
    {
      "cell_type": "code",
      "execution_count": null,
      "metadata": {
        "id": "WxgLpvZMAyoW"
      },
      "outputs": [],
      "source": [
        "import os\n",
        "import mysql.connector\n",
        "import boto3\n",
        "from io import BytesIO\n",
        "\n",
        "# اتصال به دیتابیس MySQL\n",
        "db_config = {\n",
        "    'host': 'your_mysql_host',\n",
        "    'user': 'your_mysql_user',\n",
        "    'password': 'your_mysql_password',\n",
        "    'database': 'your_database_name'\n",
        "}\n",
        "\n",
        "# اتصال به دیتابیس\n",
        "db_connection = mysql.connector.connect(**db_config)\n",
        "cursor = db_connection.cursor()\n",
        "\n",
        "# تنظیمات AWS S3\n",
        "s3_client = boto3.client('s3', aws_access_key_id='your_access_key', aws_secret_access_key='your_secret_key')\n",
        "\n",
        "# نام باکت S3\n",
        "s3_bucket_name = 'your_s3_bucket_name'\n",
        "\n",
        "# تابع کرول برای بارگذاری دارایی‌ها\n",
        "def crawl_and_store_assets():\n",
        "    # گرفتن دارایی‌ها از جدول دارایی‌ها در MySQL\n",
        "    cursor.execute(\"SELECT asset_id, asset_type, s3_key FROM assets\")\n",
        "    assets = cursor.fetchall()\n",
        "\n",
        "    for asset in assets:\n",
        "        asset_id, asset_type, s3_key = asset\n",
        "\n",
        "        # دانلود فایل از S3\n",
        "        try:\n",
        "            s3_response = s3_client.get_object(Bucket=s3_bucket_name, Key=s3_key)\n",
        "            file_content = s3_response['Body'].read()\n",
        "\n",
        "            # ذخیره فایل محلی به طور موقت\n",
        "            file_path = os.path.join('/tmp', asset_id)  # مسیر موقت برای ذخیره فایل\n",
        "            with open(file_path, 'wb') as f:\n",
        "                f.write(file_content)\n",
        "\n",
        "            # استخراج ویژگی‌ها و ذخیره در Milvus\n",
        "            try:\n",
        "                tags = [\"example_tag\"]  # می‌توانید برچسب‌ها را از دیتابیس هم بگیرید\n",
        "                store_asset(asset_id, asset_type, file_path, tags)\n",
        "                print(f\"Asset {asset_id} of type {asset_type} stored successfully.\")\n",
        "            except Exception as e:\n",
        "                print(f\"Error storing asset {asset_id}: {str(e)}\")\n",
        "\n",
        "        except Exception as e:\n",
        "            print(f\"Error downloading asset {asset_id} from S3: {str(e)}\")\n",
        "\n",
        "    cursor.close()\n",
        "    db_connection.close()\n",
        "\n",
        "# فراخوانی تابع کرول\n",
        "crawl_and_store_assets()\n"
      ]
    }
  ]
}